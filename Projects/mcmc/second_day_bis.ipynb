{
 "cells": [
  {
   "cell_type": "markdown",
   "metadata": {},
   "source": [
    "## A first sampler\n",
    "\n",
    "We would like to program a simple Metropolis sampler, it will contain the basic ingredients of any MCMC"
   ]
  },
  {
   "cell_type": "code",
   "execution_count": 1,
   "metadata": {
    "collapsed": true
   },
   "outputs": [],
   "source": [
    "import numpy as np\n",
    "import scipy.integrate as integrate\n",
    "def E(z,OmDE):\n",
    "    \"\"\"\n",
    "    This function computes the integrand for the computation of the luminosity distance for a flat universe\n",
    "    z -> float\n",
    "    OmDE -> float\n",
    "    gives\n",
    "    E -> float\n",
    "    \"\"\"\n",
    "    return 1/np.sqrt((1-OmDE)*(1+z)**3+OmDE)\n",
    "\n",
    "def dl(z,OmDE,h=0.7):\n",
    "    \"\"\"\n",
    "    This function computes the luminosity distance\n",
    "    z -> float\n",
    "    OmDE -> float\n",
    "    h ->float\n",
    "    returns\n",
    "    dl -> float\n",
    "    \"\"\"\n",
    "    inte=integrate.quad(E,0,z,args=(OmDE))\n",
    "    # Velocidad del sonido en km/s\n",
    "    c = 299792.458\n",
    "    # Factor de Hubble\n",
    "    Ho = 100*h\n",
    "    return c*(1+z)/Ho * inte[0]\n",
    "zandmu = np.loadtxt('../data/SCPUnion2.1_mu_vs_z.txt', skiprows=5,usecols=(1,2))\n",
    "covariance = np.loadtxt('../data/SCPUnion2.1_covmat_sys.txt')\n",
    "dl = np.vectorize(dl)\n",
    "def loglike(params,h=0.7):\n",
    "    \"\"\"\n",
    "    This function computes the logarithm of the likelihood. It recieves a vector\n",
    "    params-> vector with one component (Omega Dark Energy)\n",
    "    \"\"\"\n",
    "    OmDE = params[0]\n",
    "# Ahora quiero calcular la diferencia entre el valor reportado y el calculado\n",
    "    delta = 5.*np.log10(dl(zandmu[:,0],OmDE,h))+25-zandmu[:,1]\n",
    "    chisquare=np.dot(delta,np.dot(np.linalg.inv(covariance),delta))\n",
    "    return -chisquare/2\n"
   ]
  },
  {
   "cell_type": "code",
   "execution_count": 3,
   "metadata": {},
   "outputs": [
    {
     "data": {
      "text/plain": [
       "-278.58971768190293"
      ]
     },
     "execution_count": 3,
     "metadata": {},
     "output_type": "execute_result"
    }
   ],
   "source": [
    "loglike([0.6])"
   ]
  },
  {
   "cell_type": "markdown",
   "metadata": {},
   "source": [
    "Now let's compute the Markov chain with the Metropolis algorithm:\n",
    "Start from a certain point"
   ]
  },
  {
   "cell_type": "code",
   "execution_count": 21,
   "metadata": {
    "collapsed": true
   },
   "outputs": [],
   "source": [
    "start_point=[0.5]\n",
    "chain=[start_point]\n",
    "likelihood_chain=[loglike(start_point)]\n",
    "step_width=[0.03]\n",
    "number_of_steps=1000\n",
    "accepted=0"
   ]
  },
  {
   "cell_type": "code",
   "execution_count": 22,
   "metadata": {},
   "outputs": [
    {
     "name": "stdout",
     "output_type": "stream",
     "text": [
      "Razon de aceptacion = 0.363\n"
     ]
    }
   ],
   "source": [
    "for i in range(number_of_steps):\n",
    "    #Generate a random number starting at the current point\n",
    "    rand = np.random.normal(0.,1.,1)\n",
    "    newpoint = chain[i] + step_width*rand\n",
    "    #Compute the loglike in the new point\n",
    "    liketry = loglike(newpoint)\n",
    "    #Now the probability of acceptance\n",
    "    if liketry > likelihood_chain[i]:\n",
    "        prob_acceptance = 1\n",
    "    else:\n",
    "        prob_accept = np.exp(liketry - likelihood_chain[i])\n",
    "\n",
    "    #Now compare that probability to a random number between 0 and 1\n",
    "    if prob_accept >= np.random.uniform(0.,1.):\n",
    "        chain.append(newpoint)\n",
    "        likelihood_chain.append(liketry)\n",
    "        accepted += 1\n",
    "    else:\n",
    "        chain.append(chain[i])\n",
    "        likelihood_chain.append(likelihood_chain[i])\n",
    "\n",
    "print \"Razon de aceptacion =\",float(accepted)/float(number_of_steps)"
   ]
  },
  {
   "cell_type": "markdown",
   "metadata": {},
   "source": [
    "We can use the previous result to obtain the average values of the sampled quantities"
   ]
  },
  {
   "cell_type": "code",
   "execution_count": 18,
   "metadata": {
    "collapsed": true
   },
   "outputs": [],
   "source": [
    "chain=np.array(chain)"
   ]
  },
  {
   "cell_type": "code",
   "execution_count": 19,
   "metadata": {
    "collapsed": true
   },
   "outputs": [],
   "source": [
    "omega_chain=chain[:,0]"
   ]
  },
  {
   "cell_type": "code",
   "execution_count": 11,
   "metadata": {},
   "outputs": [
    {
     "name": "stdout",
     "output_type": "stream",
     "text": [
      "0.613828301834\n"
     ]
    }
   ],
   "source": [
    "average = np.mean(omega_chain)\n",
    "print average"
   ]
  },
  {
   "cell_type": "markdown",
   "metadata": {},
   "source": [
    "We can even compute the asociated standard deviation"
   ]
  },
  {
   "cell_type": "code",
   "execution_count": 14,
   "metadata": {},
   "outputs": [
    {
     "name": "stdout",
     "output_type": "stream",
     "text": [
      "0.0745711422263\n"
     ]
    }
   ],
   "source": [
    "average_of_squares = np.mean(omega_chain**2)\n",
    "sigma_omega = np.sqrt(average_of_squares-average**2)\n",
    "print sigma_omega"
   ]
  },
  {
   "cell_type": "markdown",
   "metadata": {},
   "source": [
    "Let's check the chain"
   ]
  },
  {
   "cell_type": "code",
   "execution_count": 12,
   "metadata": {
    "collapsed": true
   },
   "outputs": [],
   "source": [
    "import matplotlib.pyplot as plt\n",
    "%matplotlib inline"
   ]
  },
  {
   "cell_type": "code",
   "execution_count": 20,
   "metadata": {
    "scrolled": false
   },
   "outputs": [
    {
     "data": {
      "text/plain": [
       "[<matplotlib.lines.Line2D at 0x7fb95f074090>]"
      ]
     },
     "execution_count": 20,
     "metadata": {},
     "output_type": "execute_result"
    },
    {
     "data": {
      "image/png": "[encoded data removed]",
      "text/plain": [
       "<matplotlib.figure.Figure at 0x7fb95f170b90>"
      ]
     },
     "metadata": {},
     "output_type": "display_data"
    }
   ],
   "source": [
    "plt.plot(omega_chain,'o')"
   ]
  },
  {
   "cell_type": "markdown",
   "metadata": {},
   "source": [
    "Try to do it for JLA data of for a w_DE=!0\n",
    "\n",
    "## Make the chain into a function"
   ]
  },
  {
   "cell_type": "code",
   "execution_count": 53,
   "metadata": {
    "collapsed": true
   },
   "outputs": [],
   "source": [
    "def markovchain(steps, step_width, pasoinicial):\n",
    "    chain=[pasoinicial]\n",
    "    likechain=[loglike(chain[0])]\n",
    "    accepted = 0\n",
    "    for i in range(steps):\n",
    "        rand = np.random.normal(0.,1.,len(pasoinicial))\n",
    "        newpoint = chain[i] + step_width*rand\n",
    "        liketry = loglike(newpoint)\n",
    "        if np.isnan(liketry) :\n",
    "            print 'Paso algo raro'\n",
    "            liketry = -1E50\n",
    "            accept_prob = 0\n",
    "        elif liketry > likechain[i]:\n",
    "            accept_prob = 1\n",
    "        else:\n",
    "            accept_prob = np.exp(liketry - likechain[i])\n",
    "\n",
    "        if accept_prob >= np.random.uniform(0.,1.):\n",
    "            chain.append(newpoint)\n",
    "            likechain.append(liketry)\n",
    "            accepted += 1\n",
    "        else:\n",
    "            chain.append(chain[i])\n",
    "            likechain.append(likechain[i])\n",
    "    chain = np.array(chain)\n",
    "    likechain = np.array(likechain)\n",
    "\n",
    "    print \"Razon de aceptacion =\",float(accepted)/float(steps)\n",
    "\n",
    "    return chain, likechain"
   ]
  },
  {
   "cell_type": "code",
   "execution_count": 16,
   "metadata": {},
   "outputs": [
    {
     "name": "stdout",
     "output_type": "stream",
     "text": [
      "Razon de aceptacion = 0.51\n"
     ]
    }
   ],
   "source": [
    "chain1, likechain1 = markovchain(100,0.06,[0.8])"
   ]
  },
  {
   "cell_type": "code",
   "execution_count": 17,
   "metadata": {
    "scrolled": false
   },
   "outputs": [
    {
     "data": {
      "text/plain": [
       "[<matplotlib.lines.Line2D at 0x7f156d5be550>]"
      ]
     },
     "execution_count": 17,
     "metadata": {},
     "output_type": "execute_result"
    },
    {
     "data": {
      "image/png": "[encoded data removed]",
      "text/plain": [
       "<matplotlib.figure.Figure at 0x7f156d6f5110>"
      ]
     },
     "metadata": {},
     "output_type": "display_data"
    }
   ],
   "source": [
    "plt.plot(chain1,'o')"
   ]
  },
  {
   "cell_type": "markdown",
   "metadata": {},
   "source": [
    "# Use the jla dataset"
   ]
  },
  {
   "cell_type": "code",
   "execution_count": 23,
   "metadata": {
    "collapsed": true
   },
   "outputs": [],
   "source": [
    "import pyfits\n",
    "import glob\n",
    "jla_dataset = np.genfromtxt('../data/jla/data/jla_lcparams.txt', names=True, dtype=None)\n",
    "def mu_cov(alpha, beta):\n",
    "    \"\"\" Assemble the full covariance matrix of distance modulus\n",
    "\n",
    "    See Betoule et al. (2014), Eq. 11-13 for reference\n",
    "    \"\"\"\n",
    "    Ceta = sum([pyfits.getdata(mat) for mat in glob.glob('../data/jla/covmat/C*.fits')])\n",
    "\n",
    "    Cmu = np.zeros_like(Ceta[::3,::3])\n",
    "    for i, coef1 in enumerate([1., alpha, -beta]):\n",
    "        for j, coef2 in enumerate([1., alpha, -beta]):\n",
    "            Cmu += (coef1 * coef2) * Ceta[i::3,j::3]\n",
    "\n",
    "    # Add diagonal term from Eq. 13\n",
    "    sigma = np.loadtxt('../data/jla/covmat/sigma_mu.txt')\n",
    "    sigma_pecvel = (5 * 150 / 3e5) / (np.log(10.) * sigma[:, 2])\n",
    "    Cmu[np.diag_indices_from(Cmu)] += sigma[:, 0] ** 2 + sigma[:, 1] ** 2 + sigma_pecvel ** 2\n",
    "    \n",
    "    return Cmu\n",
    "def loglike(params,h=0.7):\n",
    "    \"\"\"\n",
    "    This function computes the logarithm of the likelihood. It recieves a vector\n",
    "    params-> vector with three components (Omega Dark Energy, alpha, beta and M_b)\n",
    "    \"\"\"\n",
    "    OmDE = params[0]\n",
    "    alpha = params[1]\n",
    "    beta = params[2]\n",
    "    MB = params[3]\n",
    "    covariance = mu_cov(alpha, beta)\n",
    "    inv_covariance=np.linalg.inv(covariance)\n",
    "# Ahora quiero calcular la diferencia entre el valor reportado y el calculado\n",
    "    mu_obs = jla_dataset['mb']-(MB-alpha*jla_dataset['x1']+beta*jla_dataset['color'])\n",
    "    mu_teo = 5.*np.log10(dl(jla_dataset['zcmb'],OmDE,h))+25\n",
    "    delta = mu_teo - mu_obs\n",
    "    chisquare = np.dot(delta,np.dot(inv_covariance,delta))\n",
    "    return -chisquare/2"
   ]
  },
  {
   "cell_type": "code",
   "execution_count": 24,
   "metadata": {},
   "outputs": [
    {
     "data": {
      "text/plain": [
       "-2343.1642968305632"
      ]
     },
     "execution_count": 24,
     "metadata": {},
     "output_type": "execute_result"
    }
   ],
   "source": [
    "param = [0.65,0.13,3.1,-20]\n",
    "loglike(param)"
   ]
  },
  {
   "cell_type": "code",
   "execution_count": 25,
   "metadata": {},
   "outputs": [
    {
     "name": "stdout",
     "output_type": "stream",
     "text": [
      "Razon de aceptacion = 0.3\n"
     ]
    }
   ],
   "source": [
    "chain1, likechain1 = markovchain(10,[0.06,0.1,0.1,0.1],[0.65,0.13,3.1,-20])"
   ]
  },
  {
   "cell_type": "code",
   "execution_count": 28,
   "metadata": {},
   "outputs": [
    {
     "data": {
      "text/plain": [
       "[<matplotlib.lines.Line2D at 0x7f156cb3c4d0>]"
      ]
     },
     "execution_count": 28,
     "metadata": {},
     "output_type": "execute_result"
    },
    {
     "data": {
      "image/png": "[encoded data removed]",
      "text/plain": [
       "<matplotlib.figure.Figure at 0x7f156cbb1fd0>"
      ]
     },
     "metadata": {},
     "output_type": "display_data"
    }
   ],
   "source": [
    "plt.plot(chain1[:,2],'o')"
   ]
  },
  {
   "cell_type": "markdown",
   "metadata": {},
   "source": [
    "# Use a second parameter"
   ]
  },
  {
   "cell_type": "code",
   "execution_count": 57,
   "metadata": {
    "collapsed": true
   },
   "outputs": [],
   "source": [
    "import numpy as np\n",
    "import scipy.integrate as integrate\n",
    "def E(z,OmDE,w):\n",
    "    \"\"\"\n",
    "    This function computes the integrand for the computation of the luminosity distance for a flat universe\n",
    "    z -> float\n",
    "    OmDE -> float\n",
    "    gives\n",
    "    E -> float\n",
    "    \"\"\"\n",
    "    return 1/np.sqrt((1-OmDE)*(1+z)**3+OmDE*(1+z)**(3.*(1.+w)))\n",
    "\n",
    "def dl(z,OmDE,w,h=0.7):\n",
    "    \"\"\"\n",
    "    This function computes the luminosity distance\n",
    "    z -> float\n",
    "    OmDE -> float\n",
    "    h ->float\n",
    "    returns\n",
    "    dl -> float\n",
    "    \"\"\"\n",
    "    inte=integrate.quad(E,0,z,args=(OmDE,w))\n",
    "    # Velocidad del sonido en km/s\n",
    "    c = 299792.458\n",
    "    # Factor de Hubble\n",
    "    Ho = 100*h\n",
    "    return c*(1+z)/Ho * inte[0]\n",
    "zandmu = np.loadtxt('../data/SCPUnion2.1_mu_vs_z.txt', skiprows=5,usecols=(1,2))\n",
    "covariance = np.loadtxt('../data/SCPUnion2.1_covmat_sys.txt')\n",
    "dl = np.vectorize(dl)\n",
    "def loglike(params,h=0.7):\n",
    "    \"\"\"\n",
    "    This function computes the logarithm of the likelihood. It recieves a vector\n",
    "    params-> vector with one component (Omega Dark Energy,dark energy equation of state)\n",
    "    \"\"\"\n",
    "    OmDE = params[0]\n",
    "    w = params[1]\n",
    "# Ahora quiero calcular la diferencia entre el valor reportado y el calculado\n",
    "    delta = 5.*np.log10(dl(zandmu[:,0],OmDE,w,h))+25-zandmu[:,1]\n",
    "    chisquare=np.dot(delta,np.dot(np.linalg.inv(covariance),delta))\n",
    "    return -chisquare/2\n",
    "\n",
    "\n"
   ]
  },
  {
   "cell_type": "code",
   "execution_count": 66,
   "metadata": {},
   "outputs": [
    {
     "name": "stdout",
     "output_type": "stream",
     "text": [
      "Razon de aceptacion = 0.49\n"
     ]
    }
   ],
   "source": [
    "chain1, likechain1 = markovchain(100,[0.06,0.05],[0.7,-1.])"
   ]
  },
  {
   "cell_type": "code",
   "execution_count": 67,
   "metadata": {},
   "outputs": [
    {
     "data": {
      "text/plain": [
       "[<matplotlib.lines.Line2D at 0x7f156c523850>]"
      ]
     },
     "execution_count": 67,
     "metadata": {},
     "output_type": "execute_result"
    },
    {
     "data": {
      "image/png": "[encoded data removed]",
      "text/plain": [
       "<matplotlib.figure.Figure at 0x7f156c5a9090>"
      ]
     },
     "metadata": {},
     "output_type": "display_data"
    }
   ],
   "source": [
    "plt.plot(chain1[:,1],'o')"
   ]
  },
  {
   "cell_type": "code",
   "execution_count": 68,
   "metadata": {},
   "outputs": [
    {
     "data": {
      "text/plain": [
       "[<matplotlib.lines.Line2D at 0x7f156c447550>]"
      ]
     },
     "execution_count": 68,
     "metadata": {},
     "output_type": "execute_result"
    },
    {
     "data": {
      "image/png": "[encoded data removed]",
      "text/plain": [
       "<matplotlib.figure.Figure at 0x7f156c55dbd0>"
      ]
     },
     "metadata": {},
     "output_type": "display_data"
    }
   ],
   "source": [
    "plt.plot(chain1[:,0],'o')"
   ]
  },
  {
   "cell_type": "code",
   "execution_count": null,
   "metadata": {
    "collapsed": true
   },
   "outputs": [],
   "source": []
  }
 ],
 "metadata": {
  "kernelspec": {
   "display_name": "Python 2",
   "language": "python",
   "name": "python2"
  },
  "language_info": {
   "codemirror_mode": {
    "name": "ipython",
    "version": 2
   },
   "file_extension": ".py",
   "mimetype": "text/x-python",
   "name": "python",
   "nbconvert_exporter": "python",
   "pygments_lexer": "ipython2",
   "version": "2.7.13"
  }
 },
 "nbformat": 4,
 "nbformat_minor": 2
}
